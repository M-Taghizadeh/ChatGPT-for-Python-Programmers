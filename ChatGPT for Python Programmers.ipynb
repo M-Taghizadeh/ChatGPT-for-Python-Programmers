{
 "cells": [
  {
   "cell_type": "markdown",
   "metadata": {},
   "source": [
    "# Chatgpt for Python programmers\n",
    "\n",
    "در اینجا قصد داریم کاربردهای چت جی پی تی ویژه برنامه نویسان را با هم بررسی کنیم\n",
    "1.\tآموزش برنامه نویسی\n",
    "2.\tطراحی الگوریتم های بهینه\n",
    "3.\tافزایش پرفورمنس و بهینه سازی بلاک کد\n",
    "4.\tآشنایی با کتابخانه های برنامه نویسی\n",
    "5.\tتوضیح کد به زبان آدم ایزاد\n",
    "6.\tتست نویسی برای بلاک کد\n",
    "7.\tدیباگینگ کد\n",
    "8.\tداکیومنت نویسی برای کد\n",
    "9.\tکامنت گذاری برای کد\n",
    "10.\tترجمه کد از یک زبان به زبان دیگر\n",
    "11.\tترجمه کردن داکیومنت های برنامه نویسی\n",
    "12.\tتولید اپ از اسکرچ\n",
    "13.\tساخت وبسایت ساده رزومه شخصی\n",
    "14.\tساخت ربات تلگرام\n",
    "15.\tComplete and modify code\n",
    "16.\tاضافه کردن فیچر جدید به کد\n",
    "17.\tRefactoring Code\n",
    "18.\tآموزش مدل در هوش مصنوعی\n",
    "19.\tتحلیل داده ها\n",
    "20.\tمثال هایی از فیلد دیتاساینس\n",
    "\n",
    "► Author: Mohammad Taghizadeh | [YouTube channel](https://youtube.com/c/MohammadTaghizadeh) | [GitHub](https://github.com/M-Taghizadeh) | [Instagram](https://instagram.com/taghizadeh.me) | [Telegram channel](https://t.me/python_daneshjooyar)"
   ]
  },
  {
   "cell_type": "markdown",
   "metadata": {},
   "source": [
    "## 3. افزایش پرفورمنس و بهینه سازی بلاک کد"
   ]
  },
  {
   "cell_type": "markdown",
   "metadata": {},
   "source": [
    "### Example 1\n",
    "\n",
    "Optimize and clean this code:\n"
   ]
  },
  {
   "cell_type": "code",
   "execution_count": null,
   "metadata": {},
   "outputs": [],
   "source": [
    "import time\n",
    "\n",
    "\n",
    "def some_task(name):\n",
    "    print(f\"Process {name} Started.\")\n",
    "    for i in range(0, 100000000):\n",
    "        pass\n",
    "    print(f\"Process {name} Finished.\")\n",
    "\n",
    "\n",
    "start = time.perf_counter()\n",
    "some_task(\"One\")\n",
    "some_task(\"Two\")\n",
    "some_task(\"Three\")\n",
    "some_task(\"Four\")\n",
    "end = time.perf_counter()\n",
    "exe_time = end - start\n",
    "print(f\"Execution Time: {exe_time} sec\")\n",
    "\n",
    "# for example: Execution Time: 14.556302800003323 sec"
   ]
  },
  {
   "cell_type": "markdown",
   "metadata": {},
   "source": [
    "### Example 2\n",
    "\n",
    "![](docs/fibonacci.png)\n",
    "\n",
    "Optimize and clean this code:"
   ]
  },
  {
   "cell_type": "code",
   "execution_count": null,
   "metadata": {},
   "outputs": [],
   "source": [
    "def fibonacci(n):\n",
    "    if n <= 0:\n",
    "        return None\n",
    "    elif n == 1:\n",
    "        return 0\n",
    "    elif n == 2:\n",
    "        return 1\n",
    "    else:\n",
    "        fibs = [0, 1]\n",
    "        for i in range(2, n):\n",
    "            next_fib = fibs[i-1] + fibs[i-2]\n",
    "            fibs.append(next_fib)\n",
    "        return fibs[-1]"
   ]
  },
  {
   "cell_type": "markdown",
   "metadata": {},
   "source": [
    "## 5. توضیح کد به زبان آدم ایزاد"
   ]
  },
  {
   "cell_type": "markdown",
   "metadata": {},
   "source": [
    "Explain This Code:"
   ]
  },
  {
   "cell_type": "code",
   "execution_count": null,
   "metadata": {},
   "outputs": [],
   "source": [
    "import numpy as np\n",
    "import pandas as pd \n",
    "from sklearn.decomposition import PCA\n",
    "\n",
    "dataset = np.matrix([[1, 2, 3, 4],\n",
    "                    [5, 5, 6, 7],\n",
    "                    [1, 4, 2, 3],\n",
    "                    [5, 3, 2, 1],\n",
    "                    [8, 1, 2, 2]])   \n",
    "\n",
    "df = pd.DataFrame(dataset, columns=[\"F1\", \"F2\", \"F3\", \"F4\"])\n",
    "df_std = (df - df.mean()) / (df.std())\n",
    "n_components = 2\n",
    "\n",
    "pca = PCA(n_components=n_components)\n",
    "principal_components = pca.fit_transform(df_std)\n",
    "principal_df = pd.DataFrame(data=principal_components, columns=['new_f'+str(i+1) for i in range(n_components)])\n",
    "print(principal_df)"
   ]
  },
  {
   "cell_type": "markdown",
   "metadata": {},
   "source": [
    "## 6. تست نویسی برای بلاک کد"
   ]
  },
  {
   "cell_type": "markdown",
   "metadata": {},
   "source": [
    "Write Test Case with unittest library in python for this code \n",
    "\n",
    "Write Test Case with pytest library in python for this code"
   ]
  },
  {
   "cell_type": "code",
   "execution_count": null,
   "metadata": {},
   "outputs": [],
   "source": [
    "from django.db import models\n",
    "from categories.models import Category\n",
    "from teachers.models import Teacher\n",
    "from students.models import Student\n",
    "from tags.models import Tag\n",
    "from comments.models import Comment\n",
    "from datetime import datetime\n",
    "import os\n",
    "from django.urls import reverse\n",
    "\n",
    "\n",
    "def get_filename_ext(file_path):\n",
    "    base_name = os.path.basename(file_path)\n",
    "    name, ext = os.path.splitext(base_name)\n",
    "    return name, ext\n",
    "\n",
    "\n",
    "def upload_image_path(instance, file_name):\n",
    "    name, ext = get_filename_ext(file_name)\n",
    "    final_name = f\"{instance.slug}{ext}\"\n",
    "    return f\"courses/{final_name}\"\n",
    "\n",
    "\n",
    "# Create your models here.\n",
    "class Course(models.Model):\n",
    "    STATUS_CHOICES = [\n",
    "        ('D', 'Draft'),\n",
    "        ('P', 'Published'),\n",
    "    ]\n",
    "\n",
    "    id = models.AutoField(primary_key=True)\n",
    "    teacher = models.ForeignKey(Teacher, on_delete=models.SET(\"Yadicode\"), default='Yadicode')\n",
    "    title = models.CharField(max_length=200)\n",
    "    slug = models.SlugField(unique=True, allow_unicode=True)\n",
    "    visit_count = models.IntegerField(default=0, null=True, blank=True)\n",
    "    content = models.TextField()\n",
    "    description = models.TextField(null=True, blank=True)\n",
    "    price = models.PositiveIntegerField()\n",
    "    is_free = models.BooleanField(default=False)\n",
    "    duration = models.DurationField()\n",
    "    publish_date = models.DateTimeField(default=datetime.now(), null=True, blank=True)\n",
    "    thumbnail = models.ImageField(upload_to=upload_image_path)\n",
    "    status = models.CharField(choices=STATUS_CHOICES, default='D', max_length=1)\n",
    "    category = models.ForeignKey(Category, on_delete=models.SET(\"Programming\"), default='Programming', null=True, blank=True)\n",
    "    full_link = models.URLField(null=True, blank=True)\n",
    "    \n",
    "    def __str__(self):\n",
    "        return self.title\n",
    "    \n",
    "    def get_absolute_url(self):\n",
    "        return reverse(\"courses\", kwargs={\"slug\": self.slug})\n",
    "\n",
    "\n",
    "class Course_Session(models.Model):\n",
    "    course = models.ForeignKey(Course, on_delete=models.CASCADE)\n",
    "    session_id = models.IntegerField()\n",
    "    session_title = models.CharField(max_length=200)\n",
    "    session_duration = models.DurationField()\n",
    "    is_free = models.BooleanField(default=False)\n",
    "    link = models.URLField()\n",
    "\n",
    "    class Meta:\n",
    "        unique_together = ('course', 'session_id')\n",
    "    \n",
    "    def __str__(self):\n",
    "        return f\"{self.session_id} : {self.session_title}\" \n",
    "\n",
    "\n",
    "class Student_Course(models.Model):\n",
    "    student = models.ForeignKey(Student, on_delete=models.CASCADE)\n",
    "    course = models.ForeignKey(Course, on_delete=models.CASCADE)\n",
    "\n",
    "    class Meta:\n",
    "        unique_together = ('student', 'course')\n",
    "    \n",
    "    def __str__(self):\n",
    "        return f\"{self.student.user.username} : {self.course.title}\" \n",
    "\n",
    "\n",
    "class Course_Tag(models.Model):\n",
    "    course = models.ForeignKey(Course, on_delete=models.CASCADE)\n",
    "    tag = models.ForeignKey(Tag, on_delete=models.CASCADE)\n",
    "\n",
    "    class Meta:\n",
    "        unique_together = ('course', 'tag')\n",
    "    \n",
    "    def __str__(self):\n",
    "        return f\"{self.tag.title}\" \n",
    "\n",
    "    \n",
    "class Comment_Course(models.Model):\n",
    "    comment = models.ForeignKey(Comment, on_delete=models.CASCADE)\n",
    "    course = models.ForeignKey(Course, on_delete=models.CASCADE)\n",
    "\n",
    "    class Meta:\n",
    "        unique_together = ('comment', 'course')\n",
    "    \n",
    "    def __str__(self):\n",
    "        return f\"{self.comment.message} {self.course}\" "
   ]
  },
  {
   "cell_type": "markdown",
   "metadata": {},
   "source": [
    "## 7. دیباگینگ کد و حل ارور های کد"
   ]
  },
  {
   "cell_type": "markdown",
   "metadata": {},
   "source": [
    "I have an error in this code: \n",
    "\n",
    "I Got This < Error >\n",
    "\n",
    "Why my code is wrong? give me some test cases to test the above code?\n"
   ]
  },
  {
   "cell_type": "code",
   "execution_count": null,
   "metadata": {},
   "outputs": [],
   "source": [
    "# buggy code fibonacci\n",
    "def fibonacci(n):\n",
    "    if n>1: \n",
    "        return fibonacci(n-1) + fibonacci(n-2)\n",
    "\n",
    "# true code\n",
    "# def fibonacci(n):\n",
    "#     if n <= 1:\n",
    "#         return n\n",
    "#     else:\n",
    "#         return (fibonacci(n-1) + fibonacci(n-2))\n",
    "\n",
    "\n",
    "# 0, 1, 1, 2, 3, 5, 8, 13, 21\n",
    "print(fibonacci(8))"
   ]
  },
  {
   "cell_type": "markdown",
   "metadata": {},
   "source": [
    "## 8. داکیومنت نویسی برای کد"
   ]
  },
  {
   "cell_type": "markdown",
   "metadata": {},
   "source": [
    "Write document with Markdown style for this Code:"
   ]
  },
  {
   "cell_type": "code",
   "execution_count": null,
   "metadata": {},
   "outputs": [],
   "source": [
    "import matplotlib.pyplot as plt\n",
    "import cv2\n",
    "from skimage import filters \n",
    "\n",
    "\n",
    "def edge_detector(img_path, filter):\n",
    "    noisy_image = cv2.imread(img_path, 0)\n",
    "\n",
    "    if filter == \"laplace\": filtered_img = filters.laplace(noisy_image)\n",
    "    elif filter == \"prewitt\": filtered_img = filters.prewitt(noisy_image)\n",
    "    elif filter == \"prewitt_h\": filtered_img = filters.prewitt_h(noisy_image)\n",
    "    elif filter == \"prewitt_v\": filtered_img = filters.prewitt_v(noisy_image)\n",
    "    elif filter == \"roberts\": filtered_img = filters.roberts(noisy_image)\n",
    "    elif filter == \"sobel\":  filtered_img = filters.sobel(noisy_image)\n",
    "    elif filter == \"sobel_h\":  filtered_img = filters.sobel_h(noisy_image)\n",
    "    elif filter == \"sobel_v\":  filtered_img = filters.sobel_v(noisy_image)\n",
    "    else:  filtered_img = filters.sobel(noisy_image)\n",
    "    \n",
    "    # Display images\n",
    "    plt.figure(figsize=(10, 10))\n",
    "    plt.subplot(121), plt.title(f\"Edge Detection using {filter} filter\")\n",
    "    plt.imshow(filtered_img, cmap=\"gray\")\n",
    "    plt.subplot(122), plt.title(\"Original Image\")\n",
    "    plt.imshow(noisy_image, cmap=\"gray\")\n",
    "    return plt"
   ]
  },
  {
   "cell_type": "markdown",
   "metadata": {},
   "source": [
    "## 9. کامنت گذاری برای کد"
   ]
  },
  {
   "cell_type": "markdown",
   "metadata": {},
   "source": [
    "Write comments for my code:"
   ]
  },
  {
   "cell_type": "code",
   "execution_count": null,
   "metadata": {},
   "outputs": [],
   "source": [
    "import numpy as np\n",
    "import pandas as pd \n",
    "from sklearn.decomposition import PCA\n",
    "\n",
    "dataset = np.matrix([[1, 2, 3, 4],\n",
    "                    [5, 5, 6, 7],\n",
    "                    [1, 4, 2, 3],\n",
    "                    [5, 3, 2, 1],\n",
    "                    [8, 1, 2, 2]])   \n",
    "\n",
    "df = pd.DataFrame(dataset, columns=[\"F1\", \"F2\", \"F3\", \"F4\"])\n",
    "df_std = (df - df.mean()) / (df.std())\n",
    "n_components = 2\n",
    "\n",
    "pca = PCA(n_components=n_components)\n",
    "principal_components = pca.fit_transform(df_std)\n",
    "principal_df = pd.DataFrame(data=principal_components, columns=['new_f'+str(i+1) for i in range(n_components)])\n",
    "print(principal_df)"
   ]
  },
  {
   "cell_type": "markdown",
   "metadata": {},
   "source": [
    "## 10. ترجمه کد از یک زبان به زبان دیگر"
   ]
  },
  {
   "cell_type": "markdown",
   "metadata": {},
   "source": [
    "Translate this code from python to Java"
   ]
  },
  {
   "cell_type": "code",
   "execution_count": null,
   "metadata": {},
   "outputs": [],
   "source": [
    "class Person:\n",
    "    count = 0\n",
    "    # Create New Object(Constructor)\n",
    "    def __init__(self, name, age):\n",
    "        self.name = name\n",
    "        self.age = age\n",
    "        Person.count += 1 \n",
    "\n",
    "    def get_name(self):\n",
    "        print(f\"name is {self.name}\")\n",
    "    \n",
    "    def get_age(self):\n",
    "        print(f\"age is {self.age}\")\n",
    "\n",
    "    def get_info(self):\n",
    "        print(f\"name is {self.name} and age is {self.age}\")\n",
    "\n",
    "    def get_count(self):\n",
    "        print(Person.count)\n",
    "\n",
    "# new object:\n",
    "p1 = Person(\"amir reza\", 21)\n",
    "p2 = Person(\"ahmad\", 22)\n",
    "\n",
    "p1.get_age()\n",
    "p2.get_age()\n",
    "p2.get_name()\n",
    "p1.get_info()\n",
    "p1.get_count()"
   ]
  },
  {
   "cell_type": "markdown",
   "metadata": {},
   "source": [
    "## 15. تکمیل و ویرایش کد"
   ]
  },
  {
   "cell_type": "markdown",
   "metadata": {},
   "source": [
    "Add a class called Rectangle as a new feature to this code:"
   ]
  },
  {
   "cell_type": "code",
   "execution_count": null,
   "metadata": {},
   "outputs": [],
   "source": [
    "from abc import ABC, abstractmethod\n",
    "\n",
    "# create abc class\n",
    "class Shape(ABC):\n",
    "\n",
    "    @abstractmethod\n",
    "    def area(self):\n",
    "        pass\n",
    "\n",
    "    @abstractmethod\n",
    "    def perimeter(self):\n",
    "        pass\n",
    "\n",
    "class Square(Shape):\n",
    "    def __init__(self, side):\n",
    "        self.side = side\n",
    "    \n",
    "    def area(self):\n",
    "        return self.side * self.side\n",
    "\n",
    "    def perimeter(self):\n",
    "        return 4*self.side\n",
    "\n",
    "class Circle(Shape):\n",
    "    def __init__(self, radius):\n",
    "        self.radius = radius\n",
    "    \n",
    "    def area(self):\n",
    "        return 3.14*self.radius*self.radius\n",
    "\n",
    "    def perimeter(self):\n",
    "        return 2*3.14*self.radius\n",
    "\n",
    "square1 = Square(5)\n",
    "print(square1.area())\n",
    "print(square1.perimeter())\n",
    "\n",
    "circle1 = Circle(2)\n",
    "print(circle1.area())\n",
    "print(circle1.perimeter())"
   ]
  },
  {
   "cell_type": "markdown",
   "metadata": {},
   "source": [
    "## 16. اضافه کردن فیچر جدید به کد"
   ]
  },
  {
   "cell_type": "markdown",
   "metadata": {},
   "source": [
    "این کد مدل  Blog یک وب اپلیکیشن است که با جنگو نوشته شده است به این مدل کلاس Comment را هم اضافه کن طوریکه در هر بلاگ کاربران بتوانند کامنت های مختلفی قرار دهند."
   ]
  },
  {
   "cell_type": "code",
   "execution_count": null,
   "metadata": {},
   "outputs": [],
   "source": [
    "from django.db import models\n",
    "from authors.models import Author\n",
    "from comments.models import Comment\n",
    "from datetime import datetime\n",
    "import os\n",
    "\n",
    "\n",
    "def get_filename_ext(file_path):\n",
    "    base_name = os.path.basename(file_path)\n",
    "    name, ext = os.path.splitext(base_name)\n",
    "    return name, ext\n",
    "\n",
    "\n",
    "def upload_image_path(instance, file_name):\n",
    "    name, ext = get_filename_ext(file_name)\n",
    "    final_name = f\"blogs/{instance.slug}{ext}\"\n",
    "    this = Blog.objects.filter(slug=instance.slug).first()\n",
    "    if this: this.thumbnail.delete() # delete old image field\n",
    "    return final_name\n",
    "\n",
    "\n",
    "# Create your models here.\n",
    "class Blog(models.Model):\n",
    "    STATUS_CHOICES = [\n",
    "        ('D', 'Draft'),\n",
    "        ('P', 'Published'),\n",
    "    ]\n",
    "\n",
    "    id = models.AutoField(primary_key=True)\n",
    "    title = models.CharField(max_length=200)\n",
    "    slug = models.SlugField(unique=True, allow_unicode=True)\n",
    "    content = models.TextField()\n",
    "    author = models.ForeignKey(Author, on_delete=models.SET(\"Yadicode\"), default=1)\n",
    "    publish_date = models.DateTimeField(default=datetime.now())\n",
    "    thumbnail = models.ImageField(upload_to=upload_image_path)\n",
    "    status = models.CharField(choices=STATUS_CHOICES, default='D', max_length=1)\n",
    "\n",
    "    def __str__(self):\n",
    "        return self.title"
   ]
  },
  {
   "cell_type": "markdown",
   "metadata": {},
   "source": [
    "## 19. تحلیل داده ها"
   ]
  },
  {
   "cell_type": "markdown",
   "metadata": {},
   "source": [
    "### ٍExample 1"
   ]
  },
  {
   "cell_type": "markdown",
   "metadata": {},
   "source": [
    "دیتابیسی داریم با دو جدول با فیلد های زیر\n",
    "- Customers(customer_id#, first_name)\n",
    "- Order(order_id#, amount, customer_id)\n",
    "\n",
    "کوئری های زیر را برای بازیابی اطلاعات به زبان اس کیو ال بنویس\n",
    "\n",
    "- لیست تمام مشتریانی که خریدی انجام داده اند\n",
    "- لیست تمام خرید ها\n",
    "- لیست تمام خرید های بالای مقدار 400 \n",
    "- مجموع تمام خرید ها\n",
    "- مجموع تمام خرید های مشتری با نام “Mohammad”"
   ]
  },
  {
   "cell_type": "markdown",
   "metadata": {},
   "source": [
    "![](docs/sql.png)"
   ]
  },
  {
   "cell_type": "markdown",
   "metadata": {},
   "source": [
    "### Example 2"
   ]
  },
  {
   "cell_type": "markdown",
   "metadata": {},
   "source": [
    "Write a python code for data visualization with bar chart for this simple dataset:"
   ]
  },
  {
   "cell_type": "code",
   "execution_count": null,
   "metadata": {},
   "outputs": [],
   "source": [
    "fruits = ['apple', 'blueberry', 'cherry', 'orange']\n",
    "counts = [40, 100, 30, 55] "
   ]
  }
 ],
 "metadata": {
  "kernelspec": {
   "display_name": "Python 3.9.12 ('base')",
   "language": "python",
   "name": "python3"
  },
  "language_info": {
   "name": "python",
   "version": "3.9.12"
  },
  "orig_nbformat": 4,
  "vscode": {
   "interpreter": {
    "hash": "ca2def1b9e8aedfa991e7a1cb37508b48ad3956d8615a6e2a1c5b4e03c0d1558"
   }
  }
 },
 "nbformat": 4,
 "nbformat_minor": 2
}
